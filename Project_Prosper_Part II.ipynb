{
 "cells": [
  {
   "cell_type": "markdown",
   "metadata": {
    "slideshow": {
     "slide_type": "slide"
    }
   },
   "source": [
    "# Part II - (The Influence of EmploymentStatus and Term on  Loan Status)\n",
    "## by (Akpan Enwongo Boniface"
   ]
  },
  {
   "cell_type": "markdown",
   "metadata": {
    "slideshow": {
     "slide_type": "slide"
    }
   },
   "source": [
    "\n",
    "\n",
    "## Investigation Overview\n",
    "\n",
    "\n",
    "> In this investigation, I want to assess the variables that may affect the loan status and may be used to identify trends in delinquency. The focus is on the Term, EmploymentStatus and Loan Status. \n",
    "\n",
    "\n",
    "\n",
    "## Dataset Overview\n",
    "\n",
    "> The dataset contains 113066 entries with 81 variables including Term, Employment Status and the Loan Status. The data points were reduced to 110809 due to inconsistencies. Loan Status will be re-grouped into Charged off, Delinquent Payments and Non Delinquent Payments and the categories in the Employment Status were  reduced to Employed,Full-time, Not employed, Self-employed, Part-time and Retired."
   ]
  },
  {
   "cell_type": "code",
   "execution_count": 1,
   "metadata": {
    "slideshow": {
     "slide_type": "skip"
    }
   },
   "outputs": [],
   "source": [
    "# import all packages and set plots to be embedded inline\n",
    "import numpy as np\n",
    "import pandas as pd\n",
    "import matplotlib.pyplot as plt\n",
    "import seaborn as sb\n",
    "\n",
    "%matplotlib inline\n",
    "\n",
    "# suppress warnings from final output\n",
    "import warnings\n",
    "warnings.simplefilter(\"ignore\")"
   ]
  },
  {
   "cell_type": "code",
   "execution_count": 2,
   "metadata": {
    "slideshow": {
     "slide_type": "skip"
    }
   },
   "outputs": [
    {
     "data": {
      "text/html": [
       "<div>\n",
       "<style scoped>\n",
       "    .dataframe tbody tr th:only-of-type {\n",
       "        vertical-align: middle;\n",
       "    }\n",
       "\n",
       "    .dataframe tbody tr th {\n",
       "        vertical-align: top;\n",
       "    }\n",
       "\n",
       "    .dataframe thead th {\n",
       "        text-align: right;\n",
       "    }\n",
       "</style>\n",
       "<table border=\"1\" class=\"dataframe\">\n",
       "  <thead>\n",
       "    <tr style=\"text-align: right;\">\n",
       "      <th></th>\n",
       "      <th>ListingKey</th>\n",
       "      <th>ListingNumber</th>\n",
       "      <th>ListingCreationDate</th>\n",
       "      <th>CreditGrade</th>\n",
       "      <th>Term</th>\n",
       "      <th>LoanStatus</th>\n",
       "      <th>ClosedDate</th>\n",
       "      <th>BorrowerAPR</th>\n",
       "      <th>BorrowerRate</th>\n",
       "      <th>LenderYield</th>\n",
       "      <th>...</th>\n",
       "      <th>LP_ServiceFees</th>\n",
       "      <th>LP_CollectionFees</th>\n",
       "      <th>LP_GrossPrincipalLoss</th>\n",
       "      <th>LP_NetPrincipalLoss</th>\n",
       "      <th>LP_NonPrincipalRecoverypayments</th>\n",
       "      <th>PercentFunded</th>\n",
       "      <th>Recommendations</th>\n",
       "      <th>InvestmentFromFriendsCount</th>\n",
       "      <th>InvestmentFromFriendsAmount</th>\n",
       "      <th>Investors</th>\n",
       "    </tr>\n",
       "  </thead>\n",
       "  <tbody>\n",
       "    <tr>\n",
       "      <th>0</th>\n",
       "      <td>1021339766868145413AB3B</td>\n",
       "      <td>193129</td>\n",
       "      <td>2007-08-26 19:09:29.263000000</td>\n",
       "      <td>C</td>\n",
       "      <td>36</td>\n",
       "      <td>Completed</td>\n",
       "      <td>2009-08-14 00:00:00</td>\n",
       "      <td>0.16516</td>\n",
       "      <td>0.1580</td>\n",
       "      <td>0.1380</td>\n",
       "      <td>...</td>\n",
       "      <td>-133.18</td>\n",
       "      <td>0.0</td>\n",
       "      <td>0.0</td>\n",
       "      <td>0.0</td>\n",
       "      <td>0.0</td>\n",
       "      <td>1.0</td>\n",
       "      <td>0</td>\n",
       "      <td>0</td>\n",
       "      <td>0.0</td>\n",
       "      <td>258</td>\n",
       "    </tr>\n",
       "    <tr>\n",
       "      <th>1</th>\n",
       "      <td>10273602499503308B223C1</td>\n",
       "      <td>1209647</td>\n",
       "      <td>2014-02-27 08:28:07.900000000</td>\n",
       "      <td>NaN</td>\n",
       "      <td>36</td>\n",
       "      <td>Current</td>\n",
       "      <td>NaN</td>\n",
       "      <td>0.12016</td>\n",
       "      <td>0.0920</td>\n",
       "      <td>0.0820</td>\n",
       "      <td>...</td>\n",
       "      <td>0.00</td>\n",
       "      <td>0.0</td>\n",
       "      <td>0.0</td>\n",
       "      <td>0.0</td>\n",
       "      <td>0.0</td>\n",
       "      <td>1.0</td>\n",
       "      <td>0</td>\n",
       "      <td>0</td>\n",
       "      <td>0.0</td>\n",
       "      <td>1</td>\n",
       "    </tr>\n",
       "    <tr>\n",
       "      <th>2</th>\n",
       "      <td>0EE9337825851032864889A</td>\n",
       "      <td>81716</td>\n",
       "      <td>2007-01-05 15:00:47.090000000</td>\n",
       "      <td>HR</td>\n",
       "      <td>36</td>\n",
       "      <td>Completed</td>\n",
       "      <td>2009-12-17 00:00:00</td>\n",
       "      <td>0.28269</td>\n",
       "      <td>0.2750</td>\n",
       "      <td>0.2400</td>\n",
       "      <td>...</td>\n",
       "      <td>-24.20</td>\n",
       "      <td>0.0</td>\n",
       "      <td>0.0</td>\n",
       "      <td>0.0</td>\n",
       "      <td>0.0</td>\n",
       "      <td>1.0</td>\n",
       "      <td>0</td>\n",
       "      <td>0</td>\n",
       "      <td>0.0</td>\n",
       "      <td>41</td>\n",
       "    </tr>\n",
       "    <tr>\n",
       "      <th>3</th>\n",
       "      <td>0EF5356002482715299901A</td>\n",
       "      <td>658116</td>\n",
       "      <td>2012-10-22 11:02:35.010000000</td>\n",
       "      <td>NaN</td>\n",
       "      <td>36</td>\n",
       "      <td>Current</td>\n",
       "      <td>NaN</td>\n",
       "      <td>0.12528</td>\n",
       "      <td>0.0974</td>\n",
       "      <td>0.0874</td>\n",
       "      <td>...</td>\n",
       "      <td>-108.01</td>\n",
       "      <td>0.0</td>\n",
       "      <td>0.0</td>\n",
       "      <td>0.0</td>\n",
       "      <td>0.0</td>\n",
       "      <td>1.0</td>\n",
       "      <td>0</td>\n",
       "      <td>0</td>\n",
       "      <td>0.0</td>\n",
       "      <td>158</td>\n",
       "    </tr>\n",
       "    <tr>\n",
       "      <th>4</th>\n",
       "      <td>0F023589499656230C5E3E2</td>\n",
       "      <td>909464</td>\n",
       "      <td>2013-09-14 18:38:39.097000000</td>\n",
       "      <td>NaN</td>\n",
       "      <td>36</td>\n",
       "      <td>Current</td>\n",
       "      <td>NaN</td>\n",
       "      <td>0.24614</td>\n",
       "      <td>0.2085</td>\n",
       "      <td>0.1985</td>\n",
       "      <td>...</td>\n",
       "      <td>-60.27</td>\n",
       "      <td>0.0</td>\n",
       "      <td>0.0</td>\n",
       "      <td>0.0</td>\n",
       "      <td>0.0</td>\n",
       "      <td>1.0</td>\n",
       "      <td>0</td>\n",
       "      <td>0</td>\n",
       "      <td>0.0</td>\n",
       "      <td>20</td>\n",
       "    </tr>\n",
       "  </tbody>\n",
       "</table>\n",
       "<p>5 rows × 81 columns</p>\n",
       "</div>"
      ],
      "text/plain": [
       "                ListingKey  ListingNumber            ListingCreationDate  \\\n",
       "0  1021339766868145413AB3B         193129  2007-08-26 19:09:29.263000000   \n",
       "1  10273602499503308B223C1        1209647  2014-02-27 08:28:07.900000000   \n",
       "2  0EE9337825851032864889A          81716  2007-01-05 15:00:47.090000000   \n",
       "3  0EF5356002482715299901A         658116  2012-10-22 11:02:35.010000000   \n",
       "4  0F023589499656230C5E3E2         909464  2013-09-14 18:38:39.097000000   \n",
       "\n",
       "  CreditGrade  Term LoanStatus           ClosedDate  BorrowerAPR  \\\n",
       "0           C    36  Completed  2009-08-14 00:00:00      0.16516   \n",
       "1         NaN    36    Current                  NaN      0.12016   \n",
       "2          HR    36  Completed  2009-12-17 00:00:00      0.28269   \n",
       "3         NaN    36    Current                  NaN      0.12528   \n",
       "4         NaN    36    Current                  NaN      0.24614   \n",
       "\n",
       "   BorrowerRate  LenderYield    ...     LP_ServiceFees  LP_CollectionFees  \\\n",
       "0        0.1580       0.1380    ...            -133.18                0.0   \n",
       "1        0.0920       0.0820    ...               0.00                0.0   \n",
       "2        0.2750       0.2400    ...             -24.20                0.0   \n",
       "3        0.0974       0.0874    ...            -108.01                0.0   \n",
       "4        0.2085       0.1985    ...             -60.27                0.0   \n",
       "\n",
       "   LP_GrossPrincipalLoss  LP_NetPrincipalLoss LP_NonPrincipalRecoverypayments  \\\n",
       "0                    0.0                  0.0                             0.0   \n",
       "1                    0.0                  0.0                             0.0   \n",
       "2                    0.0                  0.0                             0.0   \n",
       "3                    0.0                  0.0                             0.0   \n",
       "4                    0.0                  0.0                             0.0   \n",
       "\n",
       "   PercentFunded  Recommendations InvestmentFromFriendsCount  \\\n",
       "0            1.0                0                          0   \n",
       "1            1.0                0                          0   \n",
       "2            1.0                0                          0   \n",
       "3            1.0                0                          0   \n",
       "4            1.0                0                          0   \n",
       "\n",
       "  InvestmentFromFriendsAmount Investors  \n",
       "0                         0.0       258  \n",
       "1                         0.0         1  \n",
       "2                         0.0        41  \n",
       "3                         0.0       158  \n",
       "4                         0.0        20  \n",
       "\n",
       "[5 rows x 81 columns]"
      ]
     },
     "execution_count": 2,
     "metadata": {},
     "output_type": "execute_result"
    }
   ],
   "source": [
    "# load in the dataset into a pandas dataframe\n",
    "\n",
    "prosper = pd.read_csv('prosperLoanData.csv', sep=',')\n",
    "prosper.head()\n"
   ]
  },
  {
   "cell_type": "code",
   "execution_count": 3,
   "metadata": {
    "slideshow": {
     "slide_type": "skip"
    }
   },
   "outputs": [
    {
     "name": "stdout",
     "output_type": "stream",
     "text": [
      "<class 'pandas.core.frame.DataFrame'>\n",
      "RangeIndex: 113937 entries, 0 to 113936\n",
      "Data columns (total 4 columns):\n",
      "ListingNumber       113937 non-null int64\n",
      "Term                113937 non-null int64\n",
      "LoanStatus          113937 non-null object\n",
      "EmploymentStatus    111682 non-null object\n",
      "dtypes: int64(2), object(2)\n",
      "memory usage: 3.5+ MB\n"
     ]
    }
   ],
   "source": [
    "# select choice variables to focus on, then proceed with cleaning.\n",
    "\n",
    "df = prosper[['ListingNumber', 'Term', 'LoanStatus', 'EmploymentStatus']]\n",
    "df.info()"
   ]
  },
  {
   "cell_type": "code",
   "execution_count": 4,
   "metadata": {
    "slideshow": {
     "slide_type": "skip"
    }
   },
   "outputs": [
    {
     "data": {
      "text/plain": [
       "0"
      ]
     },
     "execution_count": 4,
     "metadata": {},
     "output_type": "execute_result"
    }
   ],
   "source": [
    "#drop duplicates\n",
    "df[df.ListingNumber.duplicated() == True].count()['ListingNumber']\n",
    "df.drop_duplicates(inplace=True)\n",
    "df[df.ListingNumber.duplicated() == True].count()['ListingNumber']"
   ]
  },
  {
   "cell_type": "code",
   "execution_count": 5,
   "metadata": {
    "slideshow": {
     "slide_type": "skip"
    }
   },
   "outputs": [
    {
     "name": "stdout",
     "output_type": "stream",
     "text": [
      "Current                   55730\n",
      "Completed                 38061\n",
      "Chargedoff                11992\n",
      "Defaulted                  5018\n",
      "Past Due (1-15 days)        800\n",
      "Past Due (31-60 days)       361\n",
      "Past Due (61-90 days)       311\n",
      "Past Due (91-120 days)      304\n",
      "Past Due (16-30 days)       265\n",
      "FinalPaymentInProgress      203\n",
      "Past Due (>120 days)         16\n",
      "Cancelled                     5\n",
      "Name: LoanStatus, dtype: int64\n",
      "Employed         66598\n",
      "Full-time        26354\n",
      "Self-employed     6052\n",
      "Not available     5347\n",
      "Other             3742\n",
      "Part-time         1088\n",
      "Not employed       835\n",
      "Retired            795\n",
      "Name: EmploymentStatus, dtype: int64\n",
      "36    87224\n",
      "60    24228\n",
      "12     1614\n",
      "Name: Term, dtype: int64\n"
     ]
    }
   ],
   "source": [
    "print(df['LoanStatus'].value_counts());\n",
    "print(df['EmploymentStatus'].value_counts());\n",
    "print(df['Term'].value_counts());"
   ]
  },
  {
   "cell_type": "code",
   "execution_count": 6,
   "metadata": {
    "slideshow": {
     "slide_type": "skip"
    }
   },
   "outputs": [],
   "source": [
    "# make column index\n",
    "df.set_index('ListingNumber', inplace=True)"
   ]
  },
  {
   "cell_type": "code",
   "execution_count": 7,
   "metadata": {
    "slideshow": {
     "slide_type": "skip"
    }
   },
   "outputs": [
    {
     "name": "stdout",
     "output_type": "stream",
     "text": [
      "<class 'pandas.core.frame.DataFrame'>\n",
      "Int64Index: 110811 entries, 193129 to 1140093\n",
      "Data columns (total 3 columns):\n",
      "Term                110811 non-null int64\n",
      "LoanStatus          110811 non-null object\n",
      "EmploymentStatus    110811 non-null object\n",
      "dtypes: int64(1), object(2)\n",
      "memory usage: 3.4+ MB\n"
     ]
    }
   ],
   "source": [
    "# drop null values\n",
    "df_new = df.dropna(axis = 0, how ='any')\n",
    "df_new.info()"
   ]
  },
  {
   "cell_type": "code",
   "execution_count": 8,
   "metadata": {
    "scrolled": false,
    "slideshow": {
     "slide_type": "skip"
    }
   },
   "outputs": [
    {
     "name": "stdout",
     "output_type": "stream",
     "text": [
      "Current                   55730\n",
      "Completed                 36622\n",
      "Chargedoff                11701\n",
      "Defaulted                  4496\n",
      "Past Due (1-15 days)        800\n",
      "Past Due (31-60 days)       361\n",
      "Past Due (61-90 days)       311\n",
      "Past Due (91-120 days)      304\n",
      "Past Due (16-30 days)       265\n",
      "FinalPaymentInProgress      203\n",
      "Past Due (>120 days)         16\n",
      "Name: LoanStatus, dtype: int64\n"
     ]
    }
   ],
   "source": [
    "# In the LoanStatus, we will take out the Cancelled loans. \n",
    "\n",
    "cancelled =  [\"Cancelled\"] \n",
    "\n",
    "df_new_1 = df_new[~df_new['LoanStatus'].isin(cancelled)]\n",
    "df_clean = df_new_1.copy()\n",
    "print(df_clean['LoanStatus'].value_counts())\n"
   ]
  },
  {
   "cell_type": "code",
   "execution_count": 9,
   "metadata": {
    "slideshow": {
     "slide_type": "skip"
    }
   },
   "outputs": [],
   "source": [
    "#Change Term, EmploymentStatus and LoanStatus to categorical data.\n",
    "\n",
    "df_clean['LoanStatus'] = df_clean['LoanStatus'].astype('category')\n",
    "df_clean['Term'] = df_clean['Term'].astype('category')\n",
    "df_clean['EmploymentStatus'] = df_clean['EmploymentStatus'].astype('category')"
   ]
  },
  {
   "cell_type": "code",
   "execution_count": 10,
   "metadata": {
    "slideshow": {
     "slide_type": "skip"
    }
   },
   "outputs": [],
   "source": [
    "# set and order categories for \"Term\" column\n",
    "df_clean[\"Term\"] = df_clean[\"Term\"].cat.set_categories([12, 36, 60], ordered=True)"
   ]
  },
  {
   "cell_type": "code",
   "execution_count": 11,
   "metadata": {
    "scrolled": true,
    "slideshow": {
     "slide_type": "skip"
    }
   },
   "outputs": [
    {
     "name": "stdout",
     "output_type": "stream",
     "text": [
      "Non_delinquent    55933\n",
      "Completed         36622\n",
      "Chargeoff         11701\n",
      "Past_due           6553\n",
      "Name: LoanStatus, dtype: int64\n",
      "<class 'pandas.core.frame.DataFrame'>\n",
      "Int64Index: 110809 entries, 193129 to 1140093\n",
      "Data columns (total 3 columns):\n",
      "Term                110809 non-null category\n",
      "LoanStatus          110809 non-null object\n",
      "EmploymentStatus    110809 non-null category\n",
      "dtypes: category(2), object(1)\n",
      "memory usage: 1.9+ MB\n",
      "None\n"
     ]
    }
   ],
   "source": [
    "# Reduce the category levels in LoanStatus by making all Defaulted and Past Dues into a single level - Past_due, and all Current and FinalPaymentInProgress into a single category - Non_delinquent.\n",
    " \n",
    "mappings = {'Past Due (1-15 days)': 'Past_due', 'Past Due (31-60 days)': 'Past_due',\n",
    "    'Past Due (61-90 days)': 'Past_due', 'Past Due (91-120 days)': 'Past_due',\n",
    "    'Past Due (16-30 days)': 'Past_due', 'Past Due (>120 days)': 'Past_due', 'Defaulted': 'Past_due', 'Chargedoff': 'Chargeoff', 'Current': 'Non_delinquent', 'Completed': 'Completed','FinalPaymentInProgress': 'Non_delinquent'}\n",
    "\n",
    "df_clean['LoanStatus'] = df_clean['LoanStatus'].replace(mappings)\n",
    "print(df_clean.LoanStatus.value_counts())\n",
    "print(df_clean.info())"
   ]
  },
  {
   "cell_type": "code",
   "execution_count": 12,
   "metadata": {
    "slideshow": {
     "slide_type": "skip"
    }
   },
   "outputs": [
    {
     "data": {
      "text/plain": [
       "Employed         66598\n",
       "Full-time        26353\n",
       "Self-employed     6052\n",
       "Not available     5346\n",
       "Other             3742\n",
       "Part-time         1088\n",
       "Not employed       835\n",
       "Retired            795\n",
       "Name: EmploymentStatus, dtype: int64"
      ]
     },
     "execution_count": 12,
     "metadata": {},
     "output_type": "execute_result"
    }
   ],
   "source": [
    "df_clean.EmploymentStatus.value_counts()"
   ]
  },
  {
   "cell_type": "code",
   "execution_count": 13,
   "metadata": {
    "slideshow": {
     "slide_type": "skip"
    }
   },
   "outputs": [
    {
     "name": "stdout",
     "output_type": "stream",
     "text": [
      "Employed         66598\n",
      "Full-time        26353\n",
      "Not employed      9923\n",
      "Self-employed     6052\n",
      "Part-time         1088\n",
      "Retired            795\n",
      "Name: EmploymentStatus, dtype: int64\n",
      "<class 'pandas.core.frame.DataFrame'>\n",
      "Int64Index: 110809 entries, 193129 to 1140093\n",
      "Data columns (total 3 columns):\n",
      "Term                110809 non-null category\n",
      "LoanStatus          110809 non-null object\n",
      "EmploymentStatus    110809 non-null object\n",
      "dtypes: category(1), object(2)\n",
      "memory usage: 2.6+ MB\n",
      "None\n"
     ]
    }
   ],
   "source": [
    "# Reduce the category levels in EmploymentStatus. Categorize other and Not available as Not employed.\n",
    "\n",
    "new_map = {'Employed': 'Employed', 'Full-time': 'Full-time', 'Self-employed': 'Self-employed', 'Retired': 'Retired',\n",
    "    'Part-time': 'Part-time', 'Not available': 'Not employed', 'Other': 'Not employed', 'Not employed': 'Not employed'}\n",
    "\n",
    "df_clean['EmploymentStatus'] = df_clean['EmploymentStatus'].replace(new_map)\n",
    "print(df_clean.EmploymentStatus.value_counts())\n",
    "print(df_clean.info())"
   ]
  },
  {
   "cell_type": "markdown",
   "metadata": {
    "slideshow": {
     "slide_type": "slide"
    }
   },
   "source": [
    "## (Loan Status Distribution)\n",
    "\n",
    "There are now two categories assigned to Loan status in the cleaned dataframe - Chargedoff and Past Due. \n",
    "\n",
    "The clustered bar chart below shows the distribution of both status. The Charged Off payments are over 11,000 data points and the past due payments over 6,000 data points.\n",
    "\n",
    "We have borrowers with more bad debt -debts that may not be recovered(Charged Off) compared to those with delinquent (past due) payments.\n"
   ]
  },
  {
   "cell_type": "code",
   "execution_count": 14,
   "metadata": {
    "slideshow": {
     "slide_type": "subslide"
    }
   },
   "outputs": [
    {
     "data": {
      "image/png": "[encoded data removed]",
      "text/plain": [
       "<matplotlib.figure.Figure at 0x7f2a2280bd30>"
      ]
     },
     "metadata": {
      "needs_background": "light"
     },
     "output_type": "display_data"
    }
   ],
   "source": [
    "base_color = sb.color_palette()[0]\n",
    "\n",
    "Loan_Status = df_clean['LoanStatus'].value_counts().index\n",
    "sb.countplot(data=df_clean,x='LoanStatus',color=base_color, order=Loan_Status)\n",
    "plt.title('LoanStatus')\n",
    "plt.xticks(rotation=90)\n",
    "plt.show()"
   ]
  },
  {
   "cell_type": "code",
   "execution_count": 15,
   "metadata": {
    "slideshow": {
     "slide_type": "skip"
    }
   },
   "outputs": [],
   "source": [
    "# def function to plot bivariate visualizations.\n",
    "\n",
    "def plot_clustered(dataframe, column_name, column_name_1):\n",
    "    hue = column_name_1\n",
    "    plt.figure(figsize = [13, 5])\n",
    "    plt.xticks(rotation=90);\n",
    "    plot=sb.countplot(data=dataframe, x = column_name, hue = column_name_1)\n",
    "    return(plot)"
   ]
  },
  {
   "cell_type": "markdown",
   "metadata": {
    "slideshow": {
     "slide_type": "slide"
    }
   },
   "source": [
    "## (LoanStatus Vs EmploymentStatus)\n",
    "There were more non delinquent payments for the self employed and Employed  borrowers,, while there were more completed payments for the full time, Part time and Retired borrowers.  \n",
    "\n",
    "The Part time and Retired borrowers did not have past due payments.Full time had the most completed payment, Employed had the most Non delinquent payment and the most past due payment, while full time had the most charge off loans.\n",
    "\n",
    "Full time has the largest completed to pastdue ratio, while retired has the lowest ratio of completed payments to past due payments."
   ]
  },
  {
   "cell_type": "code",
   "execution_count": 16,
   "metadata": {
    "slideshow": {
     "slide_type": "subslide"
    }
   },
   "outputs": [
    {
     "data": {
      "image/png": "[encoded data removed]",
      "text/plain": [
       "<matplotlib.figure.Figure at 0x7f2a22875cc0>"
      ]
     },
     "metadata": {
      "needs_background": "light"
     },
     "output_type": "display_data"
    }
   ],
   "source": [
    "plot_clustered(df_clean, 'EmploymentStatus', 'LoanStatus')\n",
    "plt.title('Clustered Bar Chart of EmploymentStatus and LoanStatus');"
   ]
  },
  {
   "cell_type": "markdown",
   "metadata": {
    "slideshow": {
     "slide_type": "slide"
    }
   },
   "source": [
    "## (LoanStatus Vs Term)\n",
    "The 36-month term had the highest distribution for all classes under LoanStatus, followed by the 60-month term. Only completed payments were seen under the 12-month term."
   ]
  },
  {
   "cell_type": "code",
   "execution_count": 17,
   "metadata": {
    "slideshow": {
     "slide_type": "subslide"
    }
   },
   "outputs": [
    {
     "data": {
      "image/png": "[encoded data removed]",
      "text/plain": [
       "<matplotlib.figure.Figure at 0x7f2a22589ac8>"
      ]
     },
     "metadata": {
      "needs_background": "light"
     },
     "output_type": "display_data"
    }
   ],
   "source": [
    "plot_clustered(df_clean, 'Term', 'LoanStatus')\n",
    "plt.title('Clustered Bar Chart of Term and LoanStatus');"
   ]
  },
  {
   "cell_type": "markdown",
   "metadata": {
    "slideshow": {
     "slide_type": "slide"
    }
   },
   "source": [
    "## (Term Vs EmploymentStatus)\n",
    "\n",
    "Borrowers with the employed status had the most distribution across the three terms.  There were no retirees and part time workers at the 60-month term. The 12-month term has the least distribution of workers.\n"
   ]
  },
  {
   "cell_type": "code",
   "execution_count": 18,
   "metadata": {
    "slideshow": {
     "slide_type": "subslide"
    }
   },
   "outputs": [
    {
     "data": {
      "image/png": "[encoded data removed]",
      "text/plain": [
       "<matplotlib.figure.Figure at 0x7f2a22489358>"
      ]
     },
     "metadata": {
      "needs_background": "light"
     },
     "output_type": "display_data"
    }
   ],
   "source": [
    "plot_clustered(df_clean, 'Term', 'EmploymentStatus')\n",
    "plt.title('Clustered Bar Chart of Term and EmploymentStatus');"
   ]
  },
  {
   "cell_type": "markdown",
   "metadata": {
    "slideshow": {
     "slide_type": "slide"
    }
   },
   "source": [
    "## (LoanStatus Vs Term Vs EmploymentStatus)\n",
    "\n",
    "For completed loans, there were more borrowers with the employed status at the 12 and 60 month term, while there were more distributions for borrowers Not employed at the 36-month term.\n",
    "\n",
    "For Non delinquent loans, all three terms consisted mostly of borrowers with the Employed status.\n",
    "\n",
    "No Past_Due loans were observed at the 12-month term. The past due loans had the least Employment status ratio. There were more distribution for self employed at the 36-month term.\n",
    "\n",
    "No charged off loans were found at the 12-month term, while we had more distribution for borrowers with the Not Employed loan status at the 36-month term.\n",
    "\n",
    "At the 60-month term, we had more employed borrowers with charged off loans.\n"
   ]
  },
  {
   "cell_type": "code",
   "execution_count": 19,
   "metadata": {
    "scrolled": false,
    "slideshow": {
     "slide_type": "subslide"
    }
   },
   "outputs": [
    {
     "data": {
      "image/png": "[encoded data removed]",
      "text/plain": [
       "<matplotlib.figure.Figure at 0x7f2a223e4b70>"
      ]
     },
     "metadata": {
      "needs_background": "light"
     },
     "output_type": "display_data"
    }
   ],
   "source": [
    "\n",
    "g=sb.FacetGrid(data=df_clean, col='Term', row= 'LoanStatus', size=5, margin_titles = True)\n",
    "g.map(sb.countplot, 'EmploymentStatus');\n",
    "g.fig.subplots_adjust(top=0.9);\n",
    "g.fig.suptitle('LoanStatus Vs Term Vs EmploymentStatus');\n",
    "g.set_xticklabels(rotation=30);\n",
    "plt.subplots_adjust(hspace=0.4, wspace=0.4)\n",
    "\n",
    "for axes in g.axes.flat:\n",
    "    axes.set_xticklabels(axes.get_xticklabels(), \n",
    "                         rotation=90, \n",
    "                         horizontalalignment='right')"
   ]
  },
  {
   "cell_type": "markdown",
   "metadata": {
    "slideshow": {
     "slide_type": "skip"
    }
   },
   "source": [
    "### Generate Slideshow\n",
    "Once you're ready to generate your slideshow, use the `jupyter nbconvert` command to generate the HTML slide show.  "
   ]
  },
  {
   "cell_type": "code",
   "execution_count": 20,
   "metadata": {
    "slideshow": {
     "slide_type": "skip"
    }
   },
   "outputs": [],
   "source": [
    "!jupyter nbconvert 'Project_Prosper_Part II.ipynb' --to slides --post serve --no-input --no-prompt"
   ]
  },
  {
   "cell_type": "code",
   "execution_count": null,
   "metadata": {},
   "outputs": [],
   "source": []
  }
 ],
 "metadata": {
  "celltoolbar": "Slideshow",
  "kernelspec": {
   "display_name": "Python 3",
   "language": "python",
   "name": "python3"
  },
  "language_info": {
   "codemirror_mode": {
    "name": "ipython",
    "version": 3
   },
   "file_extension": ".py",
   "mimetype": "text/x-python",
   "name": "python",
   "nbconvert_exporter": "python",
   "pygments_lexer": "ipython3",
   "version": "3.6.3"
  }
 },
 "nbformat": 4,
 "nbformat_minor": 2
}
